{
 "cells": [
  {
   "cell_type": "markdown",
   "id": "a8c57812",
   "metadata": {
    "id": "79cda9ff"
   },
   "source": [
    "# Разработка сверточной нейронной сети с использованием библиотеки PyTorch"
   ]
  },
  {
   "cell_type": "code",
   "execution_count": 1,
   "id": "571f8e6d",
   "metadata": {
    "executionInfo": {
     "elapsed": 378,
     "status": "ok",
     "timestamp": 1665404404923,
     "user": {
      "displayName": "Анастасия Неробова",
      "userId": "03854700269055740844"
     },
     "user_tz": -180
    },
    "id": "5760dac5"
   },
   "outputs": [],
   "source": [
    "import os\n",
    "from matplotlib import pyplot as plot\n",
    "import numpy as np\n",
    "import time\n",
    "\n",
    "import torch\n",
    "import torchvision\n",
    "import torchvision.datasets\n",
    "import torchvision.transforms\n",
    "import torch.utils.data\n",
    "import torch.nn\n"
   ]
  },
  {
   "cell_type": "markdown",
   "id": "5758b4cc",
   "metadata": {
    "id": "9b5cbedc"
   },
   "source": [
    "## 1. Загрузка и визуализация набора данных CIFAR 10"
   ]
  },
  {
   "cell_type": "code",
   "execution_count": 2,
   "id": "3c581b77",
   "metadata": {
    "colab": {
     "base_uri": "https://localhost:8080/",
     "height": 136,
     "referenced_widgets": [
      "18fd701c8f3c4b68a607c4911ba41567",
      "72813767bb844926bd51fd5c022f77a5",
      "c7042fa750cc408db7cfe6d55b0025f3",
      "1c6473cf1ff64b9aa1b530657cf15516",
      "101522efac334576b02722837a15e43c",
      "7514410a9c944562855f8058d4924281",
      "714e28216fc448dead35b4a4990a7938",
      "72fc4761947f4a32be70837aa5bee2d7",
      "88ece29da5224cb385beaa3626f8d64f",
      "80b5450c7b704e98b8406590effd845d",
      "70f6cf51781b49f4a70b2157602ed73c"
     ]
    },
    "executionInfo": {
     "elapsed": 8445,
     "status": "ok",
     "timestamp": 1665400921305,
     "user": {
      "displayName": "Анастасия Неробова",
      "userId": "03854700269055740844"
     },
     "user_tz": -180
    },
    "id": "a231f48a",
    "outputId": "44a10df6-a639-475e-dca4-3611427c9c4e"
   },
   "outputs": [
    {
     "name": "stdout",
     "output_type": "stream",
     "text": [
      "Files already downloaded and verified\n",
      "Files already downloaded and verified\n",
      "Number of train samples: 50000\n",
      "Number of test samples: 10000\n"
     ]
    }
   ],
   "source": [
    "# Загрузка набора данных CIFAR 10\n",
    "\n",
    "dir_name = os.getcwd() # скачивание данных выполняется в текущую директорию\n",
    "dir_name += \"\\\\cifar10\"\n",
    "batch_size = 100 # размер обрабатываемой пачки данных\n",
    "\n",
    "# Чтение тренировочной и тестовой выборок набора данных CIFAR 10.\n",
    "# Данные представляются в виде пар (tuple), где первый элемент - \n",
    "# изображение в формате PIL.Image.Image, а второй - целочисленная\n",
    "# метка класса.Параметр transform обеспечивает преобразование\n",
    "# изображений в формат torch.Tensor для последующей работы\n",
    "# transforms.Normalize используется для нормализации данных \n",
    "# путем указания среднего значения и стандартного отклонения для каждого из трех каналов.\n",
    "# Это преобразует данные из [0,1] в [-1,1]\n",
    "\n",
    "# Нормализация данных должна помочь ускорить преобразование и\n",
    "# уменьшить вероятность исчезновения градиентов с определенными\n",
    "# функции активации.\n",
    "\n",
    "transform = torchvision.transforms.Compose([torchvision.transforms.ToTensor(),\n",
    "     torchvision.transforms.Normalize((0.5, 0.5, 0.5), (0.5, 0.5, 0.5))]) \n",
    "# transform = torchvision.transforms.ToTensor()\n",
    "\n",
    "train_dataset = torchvision.datasets.CIFAR10(root=dir_name, train=True, download=True,\n",
    "                                             transform=transform)\n",
    "test_dataset = torchvision.datasets.CIFAR10(root = dir_name, train = False, download = True,\n",
    "                                            transform = transform)\n",
    "\n",
    "# Логирование информации о загруженных данных\n",
    "print('Number of train samples: {}'.format(len(train_dataset)))\n",
    "\n",
    "print('Number of test samples: {}'.format(len(test_dataset)))\n",
    "\n",
    "# Создание объектов для последовательной загрузки пачек\n",
    "# из тренировочной и тестовой выборок\n",
    "train_data_loader = torch.utils.data.DataLoader(train_dataset, batch_size = batch_size,\n",
    "                                                shuffle = True)\n",
    "test_data_loader = torch.utils.data.DataLoader(test_dataset, batch_size = batch_size,\n",
    "                                               shuffle = False)\n"
   ]
  },
  {
   "cell_type": "code",
   "execution_count": 3,
   "id": "fd9c4920",
   "metadata": {
    "colab": {
     "base_uri": "https://localhost:8080/",
     "height": 935
    },
    "executionInfo": {
     "elapsed": 1382,
     "status": "ok",
     "timestamp": 1665405491049,
     "user": {
      "displayName": "Анастасия Неробова",
      "userId": "03854700269055740844"
     },
     "user_tz": -180
    },
    "id": "c56b6846",
    "outputId": "4901242c-5890-4b72-b1fb-018ee6af322e"
   },
   "outputs": [
    {
     "name": "stdout",
     "output_type": "stream",
     "text": [
      "classes ['airplane', 'automobile', 'bird', 'cat', 'deer', 'dog', 'frog', 'horse', 'ship', 'truck']\n",
      "torch.Size([3, 32, 32])\n",
      "bird\n"
     ]
    },
    {
     "name": "stderr",
     "output_type": "stream",
     "text": [
      "Clipping input data to the valid range for imshow with RGB data ([0..1] for floats or [0..255] for integers).\n"
     ]
    },
    {
     "data": {
      "image/png": "[encoded data removed]",
      "text/plain": [
       "<Figure size 200x200 with 1 Axes>"
      ]
     },
     "metadata": {},
     "output_type": "display_data"
    },
    {
     "name": "stderr",
     "output_type": "stream",
     "text": [
      "Clipping input data to the valid range for imshow with RGB data ([0..1] for floats or [0..255] for integers).\n"
     ]
    },
    {
     "name": "stdout",
     "output_type": "stream",
     "text": [
      "dog\n"
     ]
    },
    {
     "data": {
      "image/png": "[encoded data removed]",
      "text/plain": [
       "<Figure size 200x200 with 1 Axes>"
      ]
     },
     "metadata": {},
     "output_type": "display_data"
    },
    {
     "name": "stderr",
     "output_type": "stream",
     "text": [
      "Clipping input data to the valid range for imshow with RGB data ([0..1] for floats or [0..255] for integers).\n"
     ]
    },
    {
     "name": "stdout",
     "output_type": "stream",
     "text": [
      "airplane\n"
     ]
    },
    {
     "data": {
      "image/png": "[encoded data removed]",
      "text/plain": [
       "<Figure size 200x200 with 1 Axes>"
      ]
     },
     "metadata": {},
     "output_type": "display_data"
    },
    {
     "name": "stderr",
     "output_type": "stream",
     "text": [
      "Clipping input data to the valid range for imshow with RGB data ([0..1] for floats or [0..255] for integers).\n"
     ]
    },
    {
     "name": "stdout",
     "output_type": "stream",
     "text": [
      "automobile\n"
     ]
    },
    {
     "data": {
      "image/png": "[encoded data removed]",
      "text/plain": [
       "<Figure size 200x200 with 1 Axes>"
      ]
     },
     "metadata": {},
     "output_type": "display_data"
    },
    {
     "name": "stderr",
     "output_type": "stream",
     "text": [
      "Clipping input data to the valid range for imshow with RGB data ([0..1] for floats or [0..255] for integers).\n"
     ]
    },
    {
     "name": "stdout",
     "output_type": "stream",
     "text": [
      "truck\n"
     ]
    },
    {
     "data": {
      "image/png": "[encoded data removed]",
      "text/plain": [
       "<Figure size 200x200 with 1 Axes>"
      ]
     },
     "metadata": {},
     "output_type": "display_data"
    }
   ],
   "source": [
    "# Визуализация первых 10 изображений\n",
    "# Получение списка классов\n",
    "classes = train_dataset.classes\n",
    "print(\"classes\", classes)\n",
    "\n",
    "# Функция для демонстрации примеров изображений\n",
    "\n",
    "def image_show(image_data):\n",
    "    np_image = image_data.numpy()\n",
    "    np_image = np.transpose(np_image, (1,2,0))\n",
    "    plot.figure(figsize = (2,2))\n",
    "    plot.imshow(np_image)\n",
    "    plot.show()\n",
    "    \n",
    "# Каждый элемент из образца представляет собой кортеж, содержащий тензор изображения и метку.\n",
    "# Поскольку данные состоят из цветных изображений 32x32 пикселей с 3 каналами (RGB), \n",
    "# каждый тензор изображения имеет размерность (3, 32, 32). Проверим.\n",
    "\n",
    "   \n",
    "# Выведем на экран первые 10 изображений с метками классов для подтверждения корректности загрузки.    \n",
    "data_iter = iter(train_data_loader)\n",
    "images,labels = next(data_iter)\n",
    "img_data = images[0]\n",
    "print(img_data.shape)\n",
    "for i in range(5, 10):\n",
    "    print(classes[labels[i].item()])\n",
    "    image_show(images[i])\n"
   ]
  },
  {
   "cell_type": "markdown",
   "id": "f5b6a2cd",
   "metadata": {},
   "source": [
    "## 2. Создание, обучение и тестирование модели"
   ]
  },
  {
   "cell_type": "code",
   "execution_count": 4,
   "id": "946013a2",
   "metadata": {
    "colab": {
     "base_uri": "https://localhost:8080/"
    },
    "executionInfo": {
     "elapsed": 10,
     "status": "ok",
     "timestamp": 1665406904590,
     "user": {
      "displayName": "Анастасия Неробова",
      "userId": "03854700269055740844"
     },
     "user_tz": -180
    },
    "id": "j1JRa__q6WC4",
    "outputId": "a73620a0-1474-4e3f-e93d-9158a4fa2899"
   },
   "outputs": [
    {
     "name": "stdout",
     "output_type": "stream",
     "text": [
      "ConvolutionalNeuralNetwork(\n",
      "  (conv1): Conv2d(3, 64, kernel_size=(3, 3), stride=(1, 1))\n",
      "  (conv2): Conv2d(64, 128, kernel_size=(3, 3), stride=(1, 1))\n",
      "  (conv3): Conv2d(128, 256, kernel_size=(3, 3), stride=(1, 1))\n",
      "  (pool): MaxPool2d(kernel_size=2, stride=2, padding=0, dilation=1, ceil_mode=False)\n",
      "  (fc1): Linear(in_features=1024, out_features=128, bias=True)\n",
      "  (fc2): Linear(in_features=128, out_features=256, bias=True)\n",
      "  (fc3): Linear(in_features=256, out_features=10, bias=True)\n",
      ")\n",
      "Trainable parameters:\n",
      "conv1.weight \t 1728\n",
      "conv1.bias \t 64\n",
      "conv2.weight \t 73728\n",
      "conv2.bias \t 128\n",
      "conv3.weight \t 294912\n",
      "conv3.bias \t 256\n",
      "fc1.weight \t 131072\n",
      "fc1.bias \t 128\n",
      "fc2.weight \t 32768\n",
      "fc2.bias \t 256\n",
      "fc3.weight \t 2560\n",
      "fc3.bias \t 10\n",
      "\n",
      "Total \t 537610\n"
     ]
    }
   ],
   "source": [
    "# Создание модели, соответствующей логистической регрессии\n",
    "import torch.nn as nn\n",
    "# Создание класса сети, соответствующей логистической регрессии\n",
    "class ConvolutionalNeuralNetwork(torch.nn.Module):\n",
    "    \n",
    "    def __init__(self):\n",
    "        super(ConvolutionalNeuralNetwork, self).__init__()\n",
    "    # Первый свёрточный слой: 3 канала ввода изображения, 64 канала вывода, 3x3 квадратное сверточное ядро\n",
    "        self.conv1 = torch.nn.Conv2d(3, 64, 3)\n",
    "        self.conv2 = torch.nn.Conv2d(64, 128, 3)\n",
    "        self.conv3 = torch.nn.Conv2d(128, 256, 3)\n",
    "        self.pool = torch.nn.MaxPool2d(2, 2)\n",
    "        self.fc1 = torch.nn.Linear(64 * 4 * 4, 128)\n",
    "        self.fc2 = torch.nn.Linear(128, 256)\n",
    "        self.fc3 = torch.nn.Linear(256, 10)\n",
    "    \n",
    "    def forward(self, x):\n",
    "        x = self.pool(torch.nn.functional.relu(self.conv1(x)))\n",
    "        x = self.pool(torch.nn.functional.relu(self.conv2(x)))\n",
    "        x = self.pool(torch.nn.functional.relu(self.conv3(x)))\n",
    "        x = x.view(-1, 64 * 4 * 4)\n",
    "        x = torch.nn.functional.relu(self.fc1(x))\n",
    "        x = torch.nn.functional.relu(self.fc2(x))\n",
    "        x = self.fc3(x)\n",
    "        return torch.nn.functional.log_softmax(x, dim=1)\n",
    "    \n",
    "# Создание объекта разработанного класса\n",
    "cnn_model = ConvolutionalNeuralNetwork()\n",
    "\n",
    "# Логирование информации о параметрах модели\n",
    "print(cnn_model)\n",
    "total = 0\n",
    "print('Trainable parameters:')\n",
    "for name, param in cnn_model.named_parameters():\n",
    "    if param.requires_grad:\n",
    "        print(name, '\\t', param.numel())\n",
    "        total += param.numel()\n",
    "print()\n",
    "print('Total', '\\t', total)"
   ]
  },
  {
   "cell_type": "code",
   "execution_count": 5,
   "id": "6f14960b",
   "metadata": {
    "colab": {
     "base_uri": "https://localhost:8080/"
    },
    "executionInfo": {
     "elapsed": 617311,
     "status": "ok",
     "timestamp": 1665406490259,
     "user": {
      "displayName": "Анастасия Неробова",
      "userId": "03854700269055740844"
     },
     "user_tz": -180
    },
    "id": "Gx2L_x9A6TVg",
    "outputId": "0d523ab1-9306-4b97-c6e2-4dbe2e5e2733"
   },
   "outputs": [
    {
     "name": "stdout",
     "output_type": "stream",
     "text": [
      "Epoch[0]: accuracy = 0.39866000413894653\n",
      "Epoch[1]: accuracy = 0.48561999201774597\n",
      "Epoch[2]: accuracy = 0.5984799861907959\n",
      "Epoch[3]: accuracy = 0.6454200148582458\n",
      "Epoch[4]: accuracy = 0.7069000005722046\n",
      "Epoch[5]: accuracy = 0.7489200234413147\n",
      "Epoch[6]: accuracy = 0.7785999774932861\n",
      "Epoch[7]: accuracy = 0.8104199767112732\n",
      "Epoch[8]: accuracy = 0.8546000123023987\n",
      "Epoch[9]: accuracy = 0.7528600096702576\n",
      "Execution time: 3775.5751905441284 seconds\n"
     ]
    }
   ],
   "source": [
    "# Обучение построенной модели на CPU\n",
    "\n",
    "learning_rate = 0.1 # скорость обучения\n",
    "num_epochs = 10 # количество эпох\n",
    "\n",
    "# Выбор устройства для вычислений\n",
    "device = torch.device(\"cuda:0\" if torch.cuda.is_available() else \"cpu\")\n",
    "cnn_model.to(device)\n",
    "# Функция ошибки на этапе обучения\n",
    "loss_function = torch.nn.CrossEntropyLoss()\n",
    "# Метод оптимизации для обучения параметров\n",
    "optimizer = torch.optim.SGD(cnn_model.parameters(), lr = learning_rate)\n",
    "\n",
    "# Функция вычисления точности top-1\n",
    "def get_accuracy(data_loader, model):\n",
    "    tp = 0\n",
    "    n = 0\n",
    "    with torch.no_grad():\n",
    "        for images, labels in data_loader: # проход по всем данным\n",
    "            # Получение выхода сети на входной пачке изображений\n",
    "            outputs = model(images)\n",
    "            # Выбор предсказанных меток с максимальной достоверностью.\n",
    "            # outputs.data - объект типа torch.tensor, двумерный тензор, массив\n",
    "            # векторов достоверности принадлежности каждому из 10 допустимых классов\n",
    "            # (размерность 0 - номер изображения в пачке, размерность 1 - номер класса);\n",
    "            # predicted - объект типа torch.tensor (одномерный тензор меток классов).\n",
    "            # Выбор максимальных значений выполняется по первой размерности\n",
    "            _, predicted = torch.max(outputs.data, 1)\n",
    "            n += labels.size(0) # количество изображений, совпадает с batch_size\n",
    "            tp += (predicted == labels).sum() # определение количества корректных совпадений\n",
    "    return tp / n\n",
    "\n",
    "start_time = time.time()\n",
    "for epoch in range(num_epochs):  # проход по эпохам\n",
    "    for i, (images, labels) in enumerate(train_data_loader): # получение пачки тренировочных данных\n",
    "        # Загрузка данных на устройство\n",
    "        images = images.requires_grad_().to(device)\n",
    "        labels = labels.to(device)\n",
    "        # Прямой проход\n",
    "        outputs = cnn_model(images) # вычисление выхода сети\n",
    "        loss = loss_function(outputs, labels) # вычисление функции ошибки, loss.item() дает значение\n",
    "        # Обратный проход\n",
    "        optimizer.zero_grad() # обнуление всех вычисляемых градиентов\n",
    "        loss.backward() # вычисление градиента функции ошибки\n",
    "        optimizer.step() # обновление параметров модели\n",
    "    \n",
    "    # Логирование метрики качества на тренировочных данных по завершении эпохи\n",
    "    print('Epoch[{}]: accuracy = {}'.\n",
    "          format(epoch, get_accuracy(train_data_loader, cnn_model)))\n",
    "  \n",
    "end_time = time.time()\n",
    "\n",
    "elapsed_time = end_time - start_time\n",
    "print('Execution time:', elapsed_time, 'seconds')"
   ]
  },
  {
   "cell_type": "code",
   "execution_count": 7,
   "id": "f62884c4",
   "metadata": {
    "colab": {
     "base_uri": "https://localhost:8080/"
    },
    "executionInfo": {
     "elapsed": 6194,
     "status": "ok",
     "timestamp": 1665406636448,
     "user": {
      "displayName": "Анастасия Неробова",
      "userId": "03854700269055740844"
     },
     "user_tz": -180
    },
    "id": "ypHC3UXR7Hmj",
    "outputId": "f1b17c15-dcae-47bf-97ba-70cfe0eeb99c"
   },
   "outputs": [
    {
     "name": "stdout",
     "output_type": "stream",
     "text": [
      "Test accuracy: 0.6401000022888184\n",
      "Execution time: 0.0031305962562561034 seconds \n"
     ]
    }
   ],
   "source": [
    "start_time = time.time()\n",
    "print('Test accuracy: {}'.format(get_accuracy(test_data_loader, cnn_model)))\n",
    "end_time = time.time()\n",
    "\n",
    "elapsed_time = (end_time - start_time) / len(test_dataset)\n",
    "#  Вывод среднего времени классификации одного изображения\n",
    "print('Execution time:', elapsed_time, 'seconds ')"
   ]
  },
  {
   "cell_type": "code",
   "execution_count": null,
   "id": "99c554e3",
   "metadata": {
    "id": "Ab8E0g-m98ro"
   },
   "outputs": [],
   "source": []
  }
 ],
 "metadata": {
  "colab": {
   "collapsed_sections": [],
   "provenance": []
  },
  "kernelspec": {
   "display_name": "Python 3 (ipykernel)",
   "language": "python",
   "name": "python3"
  },
  "language_info": {
   "codemirror_mode": {
    "name": "ipython",
    "version": 3
   },
   "file_extension": ".py",
   "mimetype": "text/x-python",
   "name": "python",
   "nbconvert_exporter": "python",
   "pygments_lexer": "ipython3",
   "version": "3.11.5"
  },
  "widgets": {
   "application/vnd.jupyter.widget-state+json": {
    "101522efac334576b02722837a15e43c": {
     "model_module": "@jupyter-widgets/base",
     "model_module_version": "1.2.0",
     "model_name": "LayoutModel",
     "state": {
      "_model_module": "@jupyter-widgets/base",
      "_model_module_version": "1.2.0",
      "_model_name": "LayoutModel",
      "_view_count": null,
      "_view_module": "@jupyter-widgets/base",
      "_view_module_version": "1.2.0",
      "_view_name": "LayoutView",
      "align_content": null,
      "align_items": null,
      "align_self": null,
      "border": null,
      "bottom": null,
      "display": null,
      "flex": null,
      "flex_flow": null,
      "grid_area": null,
      "grid_auto_columns": null,
      "grid_auto_flow": null,
      "grid_auto_rows": null,
      "grid_column": null,
      "grid_gap": null,
      "grid_row": null,
      "grid_template_areas": null,
      "grid_template_columns": null,
      "grid_template_rows": null,
      "height": null,
      "justify_content": null,
      "justify_items": null,
      "left": null,
      "margin": null,
      "max_height": null,
      "max_width": null,
      "min_height": null,
      "min_width": null,
      "object_fit": null,
      "object_position": null,
      "order": null,
      "overflow": null,
      "overflow_x": null,
      "overflow_y": null,
      "padding": null,
      "right": null,
      "top": null,
      "visibility": null,
      "width": null
     }
    },
    "18fd701c8f3c4b68a607c4911ba41567": {
     "model_module": "@jupyter-widgets/controls",
     "model_module_version": "1.5.0",
     "model_name": "HBoxModel",
     "state": {
      "_dom_classes": [],
      "_model_module": "@jupyter-widgets/controls",
      "_model_module_version": "1.5.0",
      "_model_name": "HBoxModel",
      "_view_count": null,
      "_view_module": "@jupyter-widgets/controls",
      "_view_module_version": "1.5.0",
      "_view_name": "HBoxView",
      "box_style": "",
      "children": [
       "IPY_MODEL_72813767bb844926bd51fd5c022f77a5",
       "IPY_MODEL_c7042fa750cc408db7cfe6d55b0025f3",
       "IPY_MODEL_1c6473cf1ff64b9aa1b530657cf15516"
      ],
      "layout": "IPY_MODEL_101522efac334576b02722837a15e43c"
     }
    },
    "1c6473cf1ff64b9aa1b530657cf15516": {
     "model_module": "@jupyter-widgets/controls",
     "model_module_version": "1.5.0",
     "model_name": "HTMLModel",
     "state": {
      "_dom_classes": [],
      "_model_module": "@jupyter-widgets/controls",
      "_model_module_version": "1.5.0",
      "_model_name": "HTMLModel",
      "_view_count": null,
      "_view_module": "@jupyter-widgets/controls",
      "_view_module_version": "1.5.0",
      "_view_name": "HTMLView",
      "description": "",
      "description_tooltip": null,
      "layout": "IPY_MODEL_80b5450c7b704e98b8406590effd845d",
      "placeholder": "​",
      "style": "IPY_MODEL_70f6cf51781b49f4a70b2157602ed73c",
      "value": " 170498071/170498071 [00:03&lt;00:00, 77706038.96it/s]"
     }
    },
    "70f6cf51781b49f4a70b2157602ed73c": {
     "model_module": "@jupyter-widgets/controls",
     "model_module_version": "1.5.0",
     "model_name": "DescriptionStyleModel",
     "state": {
      "_model_module": "@jupyter-widgets/controls",
      "_model_module_version": "1.5.0",
      "_model_name": "DescriptionStyleModel",
      "_view_count": null,
      "_view_module": "@jupyter-widgets/base",
      "_view_module_version": "1.2.0",
      "_view_name": "StyleView",
      "description_width": ""
     }
    },
    "714e28216fc448dead35b4a4990a7938": {
     "model_module": "@jupyter-widgets/controls",
     "model_module_version": "1.5.0",
     "model_name": "DescriptionStyleModel",
     "state": {
      "_model_module": "@jupyter-widgets/controls",
      "_model_module_version": "1.5.0",
      "_model_name": "DescriptionStyleModel",
      "_view_count": null,
      "_view_module": "@jupyter-widgets/base",
      "_view_module_version": "1.2.0",
      "_view_name": "StyleView",
      "description_width": ""
     }
    },
    "72813767bb844926bd51fd5c022f77a5": {
     "model_module": "@jupyter-widgets/controls",
     "model_module_version": "1.5.0",
     "model_name": "HTMLModel",
     "state": {
      "_dom_classes": [],
      "_model_module": "@jupyter-widgets/controls",
      "_model_module_version": "1.5.0",
      "_model_name": "HTMLModel",
      "_view_count": null,
      "_view_module": "@jupyter-widgets/controls",
      "_view_module_version": "1.5.0",
      "_view_name": "HTMLView",
      "description": "",
      "description_tooltip": null,
      "layout": "IPY_MODEL_7514410a9c944562855f8058d4924281",
      "placeholder": "​",
      "style": "IPY_MODEL_714e28216fc448dead35b4a4990a7938",
      "value": "100%"
     }
    },
    "72fc4761947f4a32be70837aa5bee2d7": {
     "model_module": "@jupyter-widgets/base",
     "model_module_version": "1.2.0",
     "model_name": "LayoutModel",
     "state": {
      "_model_module": "@jupyter-widgets/base",
      "_model_module_version": "1.2.0",
      "_model_name": "LayoutModel",
      "_view_count": null,
      "_view_module": "@jupyter-widgets/base",
      "_view_module_version": "1.2.0",
      "_view_name": "LayoutView",
      "align_content": null,
      "align_items": null,
      "align_self": null,
      "border": null,
      "bottom": null,
      "display": null,
      "flex": null,
      "flex_flow": null,
      "grid_area": null,
      "grid_auto_columns": null,
      "grid_auto_flow": null,
      "grid_auto_rows": null,
      "grid_column": null,
      "grid_gap": null,
      "grid_row": null,
      "grid_template_areas": null,
      "grid_template_columns": null,
      "grid_template_rows": null,
      "height": null,
      "justify_content": null,
      "justify_items": null,
      "left": null,
      "margin": null,
      "max_height": null,
      "max_width": null,
      "min_height": null,
      "min_width": null,
      "object_fit": null,
      "object_position": null,
      "order": null,
      "overflow": null,
      "overflow_x": null,
      "overflow_y": null,
      "padding": null,
      "right": null,
      "top": null,
      "visibility": null,
      "width": null
     }
    },
    "7514410a9c944562855f8058d4924281": {
     "model_module": "@jupyter-widgets/base",
     "model_module_version": "1.2.0",
     "model_name": "LayoutModel",
     "state": {
      "_model_module": "@jupyter-widgets/base",
      "_model_module_version": "1.2.0",
      "_model_name": "LayoutModel",
      "_view_count": null,
      "_view_module": "@jupyter-widgets/base",
      "_view_module_version": "1.2.0",
      "_view_name": "LayoutView",
      "align_content": null,
      "align_items": null,
      "align_self": null,
      "border": null,
      "bottom": null,
      "display": null,
      "flex": null,
      "flex_flow": null,
      "grid_area": null,
      "grid_auto_columns": null,
      "grid_auto_flow": null,
      "grid_auto_rows": null,
      "grid_column": null,
      "grid_gap": null,
      "grid_row": null,
      "grid_template_areas": null,
      "grid_template_columns": null,
      "grid_template_rows": null,
      "height": null,
      "justify_content": null,
      "justify_items": null,
      "left": null,
      "margin": null,
      "max_height": null,
      "max_width": null,
      "min_height": null,
      "min_width": null,
      "object_fit": null,
      "object_position": null,
      "order": null,
      "overflow": null,
      "overflow_x": null,
      "overflow_y": null,
      "padding": null,
      "right": null,
      "top": null,
      "visibility": null,
      "width": null
     }
    },
    "80b5450c7b704e98b8406590effd845d": {
     "model_module": "@jupyter-widgets/base",
     "model_module_version": "1.2.0",
     "model_name": "LayoutModel",
     "state": {
      "_model_module": "@jupyter-widgets/base",
      "_model_module_version": "1.2.0",
      "_model_name": "LayoutModel",
      "_view_count": null,
      "_view_module": "@jupyter-widgets/base",
      "_view_module_version": "1.2.0",
      "_view_name": "LayoutView",
      "align_content": null,
      "align_items": null,
      "align_self": null,
      "border": null,
      "bottom": null,
      "display": null,
      "flex": null,
      "flex_flow": null,
      "grid_area": null,
      "grid_auto_columns": null,
      "grid_auto_flow": null,
      "grid_auto_rows": null,
      "grid_column": null,
      "grid_gap": null,
      "grid_row": null,
      "grid_template_areas": null,
      "grid_template_columns": null,
      "grid_template_rows": null,
      "height": null,
      "justify_content": null,
      "justify_items": null,
      "left": null,
      "margin": null,
      "max_height": null,
      "max_width": null,
      "min_height": null,
      "min_width": null,
      "object_fit": null,
      "object_position": null,
      "order": null,
      "overflow": null,
      "overflow_x": null,
      "overflow_y": null,
      "padding": null,
      "right": null,
      "top": null,
      "visibility": null,
      "width": null
     }
    },
    "88ece29da5224cb385beaa3626f8d64f": {
     "model_module": "@jupyter-widgets/controls",
     "model_module_version": "1.5.0",
     "model_name": "ProgressStyleModel",
     "state": {
      "_model_module": "@jupyter-widgets/controls",
      "_model_module_version": "1.5.0",
      "_model_name": "ProgressStyleModel",
      "_view_count": null,
      "_view_module": "@jupyter-widgets/base",
      "_view_module_version": "1.2.0",
      "_view_name": "StyleView",
      "bar_color": null,
      "description_width": ""
     }
    },
    "c7042fa750cc408db7cfe6d55b0025f3": {
     "model_module": "@jupyter-widgets/controls",
     "model_module_version": "1.5.0",
     "model_name": "FloatProgressModel",
     "state": {
      "_dom_classes": [],
      "_model_module": "@jupyter-widgets/controls",
      "_model_module_version": "1.5.0",
      "_model_name": "FloatProgressModel",
      "_view_count": null,
      "_view_module": "@jupyter-widgets/controls",
      "_view_module_version": "1.5.0",
      "_view_name": "ProgressView",
      "bar_style": "success",
      "description": "",
      "description_tooltip": null,
      "layout": "IPY_MODEL_72fc4761947f4a32be70837aa5bee2d7",
      "max": 170498071,
      "min": 0,
      "orientation": "horizontal",
      "style": "IPY_MODEL_88ece29da5224cb385beaa3626f8d64f",
      "value": 170498071
     }
    }
   }
  }
 },
 "nbformat": 4,
 "nbformat_minor": 5
}
